{
 "cells": [
  {
   "cell_type": "markdown",
   "metadata": {},
   "source": [
    "\n",
    "<h1>Задание 1</h1>\n",
    "\n",
    "есть небольшой искусственный датасет: https://www.kaggle.com/datasets/iamsouravbanerjee/customer-shopping-trends-dataset/data   \n",
    "Необходимо прочитать его и представить в виде df "
   ]
  },
  {
   "cell_type": "code",
   "execution_count": 3,
   "metadata": {},
   "outputs": [],
   "source": [
    "import pandas as pd\n",
    "df = pd.read_csv('shopping_trends_updated.csv')\n"
   ]
  },
  {
   "cell_type": "code",
   "execution_count": 4,
   "metadata": {},
   "outputs": [
    {
     "name": "stdout",
     "output_type": "stream",
     "text": [
      "<class 'pandas.core.frame.DataFrame'>\n",
      "RangeIndex: 3900 entries, 0 to 3899\n",
      "Data columns (total 18 columns):\n",
      " #   Column                  Non-Null Count  Dtype  \n",
      "---  ------                  --------------  -----  \n",
      " 0   Customer ID             3900 non-null   int64  \n",
      " 1   Age                     3900 non-null   int64  \n",
      " 2   Gender                  3900 non-null   object \n",
      " 3   Item Purchased          3900 non-null   object \n",
      " 4   Category                3900 non-null   object \n",
      " 5   Purchase Amount (USD)   3900 non-null   int64  \n",
      " 6   Location                3900 non-null   object \n",
      " 7   Size                    3900 non-null   object \n",
      " 8   Color                   3900 non-null   object \n",
      " 9   Season                  3900 non-null   object \n",
      " 10  Review Rating           3900 non-null   float64\n",
      " 11  Subscription Status     3900 non-null   object \n",
      " 12  Shipping Type           3900 non-null   object \n",
      " 13  Discount Applied        3900 non-null   object \n",
      " 14  Promo Code Used         3900 non-null   object \n",
      " 15  Previous Purchases      3900 non-null   int64  \n",
      " 16  Payment Method          3900 non-null   object \n",
      " 17  Frequency of Purchases  3900 non-null   object \n",
      "dtypes: float64(1), int64(4), object(13)\n",
      "memory usage: 548.6+ KB\n"
     ]
    }
   ],
   "source": [
    "df.info()"
   ]
  },
  {
   "cell_type": "code",
   "execution_count": 6,
   "metadata": {},
   "outputs": [
    {
     "data": {
      "text/html": [
       "<div>\n",
       "<style scoped>\n",
       "    .dataframe tbody tr th:only-of-type {\n",
       "        vertical-align: middle;\n",
       "    }\n",
       "\n",
       "    .dataframe tbody tr th {\n",
       "        vertical-align: top;\n",
       "    }\n",
       "\n",
       "    .dataframe thead th {\n",
       "        text-align: right;\n",
       "    }\n",
       "</style>\n",
       "<table border=\"1\" class=\"dataframe\">\n",
       "  <thead>\n",
       "    <tr style=\"text-align: right;\">\n",
       "      <th></th>\n",
       "      <th>Customer ID</th>\n",
       "      <th>Age</th>\n",
       "      <th>Gender</th>\n",
       "      <th>Item Purchased</th>\n",
       "      <th>Category</th>\n",
       "      <th>Purchase Amount (USD)</th>\n",
       "      <th>Location</th>\n",
       "      <th>Size</th>\n",
       "      <th>Color</th>\n",
       "      <th>Season</th>\n",
       "      <th>Review Rating</th>\n",
       "      <th>Subscription Status</th>\n",
       "      <th>Shipping Type</th>\n",
       "      <th>Discount Applied</th>\n",
       "      <th>Promo Code Used</th>\n",
       "      <th>Previous Purchases</th>\n",
       "      <th>Payment Method</th>\n",
       "      <th>Frequency of Purchases</th>\n",
       "    </tr>\n",
       "  </thead>\n",
       "  <tbody>\n",
       "    <tr>\n",
       "      <th>0</th>\n",
       "      <td>1</td>\n",
       "      <td>55</td>\n",
       "      <td>Male</td>\n",
       "      <td>Blouse</td>\n",
       "      <td>Clothing</td>\n",
       "      <td>53</td>\n",
       "      <td>Kentucky</td>\n",
       "      <td>L</td>\n",
       "      <td>Gray</td>\n",
       "      <td>Winter</td>\n",
       "      <td>3.1</td>\n",
       "      <td>Yes</td>\n",
       "      <td>Express</td>\n",
       "      <td>Yes</td>\n",
       "      <td>Yes</td>\n",
       "      <td>14</td>\n",
       "      <td>Venmo</td>\n",
       "      <td>Fortnightly</td>\n",
       "    </tr>\n",
       "    <tr>\n",
       "      <th>1</th>\n",
       "      <td>2</td>\n",
       "      <td>19</td>\n",
       "      <td>Male</td>\n",
       "      <td>Sweater</td>\n",
       "      <td>Clothing</td>\n",
       "      <td>64</td>\n",
       "      <td>Maine</td>\n",
       "      <td>L</td>\n",
       "      <td>Maroon</td>\n",
       "      <td>Winter</td>\n",
       "      <td>3.1</td>\n",
       "      <td>Yes</td>\n",
       "      <td>Express</td>\n",
       "      <td>Yes</td>\n",
       "      <td>Yes</td>\n",
       "      <td>2</td>\n",
       "      <td>Cash</td>\n",
       "      <td>Fortnightly</td>\n",
       "    </tr>\n",
       "    <tr>\n",
       "      <th>2</th>\n",
       "      <td>3</td>\n",
       "      <td>50</td>\n",
       "      <td>Male</td>\n",
       "      <td>Jeans</td>\n",
       "      <td>Clothing</td>\n",
       "      <td>73</td>\n",
       "      <td>Massachusetts</td>\n",
       "      <td>S</td>\n",
       "      <td>Maroon</td>\n",
       "      <td>Spring</td>\n",
       "      <td>3.1</td>\n",
       "      <td>Yes</td>\n",
       "      <td>Free Shipping</td>\n",
       "      <td>Yes</td>\n",
       "      <td>Yes</td>\n",
       "      <td>23</td>\n",
       "      <td>Credit Card</td>\n",
       "      <td>Weekly</td>\n",
       "    </tr>\n",
       "    <tr>\n",
       "      <th>3</th>\n",
       "      <td>4</td>\n",
       "      <td>21</td>\n",
       "      <td>Male</td>\n",
       "      <td>Sandals</td>\n",
       "      <td>Footwear</td>\n",
       "      <td>90</td>\n",
       "      <td>Rhode Island</td>\n",
       "      <td>M</td>\n",
       "      <td>Maroon</td>\n",
       "      <td>Spring</td>\n",
       "      <td>3.5</td>\n",
       "      <td>Yes</td>\n",
       "      <td>Next Day Air</td>\n",
       "      <td>Yes</td>\n",
       "      <td>Yes</td>\n",
       "      <td>49</td>\n",
       "      <td>PayPal</td>\n",
       "      <td>Weekly</td>\n",
       "    </tr>\n",
       "    <tr>\n",
       "      <th>4</th>\n",
       "      <td>5</td>\n",
       "      <td>45</td>\n",
       "      <td>Male</td>\n",
       "      <td>Blouse</td>\n",
       "      <td>Clothing</td>\n",
       "      <td>49</td>\n",
       "      <td>Oregon</td>\n",
       "      <td>M</td>\n",
       "      <td>Turquoise</td>\n",
       "      <td>Spring</td>\n",
       "      <td>2.7</td>\n",
       "      <td>Yes</td>\n",
       "      <td>Free Shipping</td>\n",
       "      <td>Yes</td>\n",
       "      <td>Yes</td>\n",
       "      <td>31</td>\n",
       "      <td>PayPal</td>\n",
       "      <td>Annually</td>\n",
       "    </tr>\n",
       "    <tr>\n",
       "      <th>5</th>\n",
       "      <td>6</td>\n",
       "      <td>46</td>\n",
       "      <td>Male</td>\n",
       "      <td>Sneakers</td>\n",
       "      <td>Footwear</td>\n",
       "      <td>20</td>\n",
       "      <td>Wyoming</td>\n",
       "      <td>M</td>\n",
       "      <td>White</td>\n",
       "      <td>Summer</td>\n",
       "      <td>2.9</td>\n",
       "      <td>Yes</td>\n",
       "      <td>Standard</td>\n",
       "      <td>Yes</td>\n",
       "      <td>Yes</td>\n",
       "      <td>14</td>\n",
       "      <td>Venmo</td>\n",
       "      <td>Weekly</td>\n",
       "    </tr>\n",
       "    <tr>\n",
       "      <th>6</th>\n",
       "      <td>7</td>\n",
       "      <td>63</td>\n",
       "      <td>Male</td>\n",
       "      <td>Shirt</td>\n",
       "      <td>Clothing</td>\n",
       "      <td>85</td>\n",
       "      <td>Montana</td>\n",
       "      <td>M</td>\n",
       "      <td>Gray</td>\n",
       "      <td>Fall</td>\n",
       "      <td>3.2</td>\n",
       "      <td>Yes</td>\n",
       "      <td>Free Shipping</td>\n",
       "      <td>Yes</td>\n",
       "      <td>Yes</td>\n",
       "      <td>49</td>\n",
       "      <td>Cash</td>\n",
       "      <td>Quarterly</td>\n",
       "    </tr>\n",
       "    <tr>\n",
       "      <th>7</th>\n",
       "      <td>8</td>\n",
       "      <td>27</td>\n",
       "      <td>Male</td>\n",
       "      <td>Shorts</td>\n",
       "      <td>Clothing</td>\n",
       "      <td>34</td>\n",
       "      <td>Louisiana</td>\n",
       "      <td>L</td>\n",
       "      <td>Charcoal</td>\n",
       "      <td>Winter</td>\n",
       "      <td>3.2</td>\n",
       "      <td>Yes</td>\n",
       "      <td>Free Shipping</td>\n",
       "      <td>Yes</td>\n",
       "      <td>Yes</td>\n",
       "      <td>19</td>\n",
       "      <td>Credit Card</td>\n",
       "      <td>Weekly</td>\n",
       "    </tr>\n",
       "    <tr>\n",
       "      <th>8</th>\n",
       "      <td>9</td>\n",
       "      <td>26</td>\n",
       "      <td>Male</td>\n",
       "      <td>Coat</td>\n",
       "      <td>Outerwear</td>\n",
       "      <td>97</td>\n",
       "      <td>West Virginia</td>\n",
       "      <td>L</td>\n",
       "      <td>Silver</td>\n",
       "      <td>Summer</td>\n",
       "      <td>2.6</td>\n",
       "      <td>Yes</td>\n",
       "      <td>Express</td>\n",
       "      <td>Yes</td>\n",
       "      <td>Yes</td>\n",
       "      <td>8</td>\n",
       "      <td>Venmo</td>\n",
       "      <td>Annually</td>\n",
       "    </tr>\n",
       "    <tr>\n",
       "      <th>9</th>\n",
       "      <td>10</td>\n",
       "      <td>57</td>\n",
       "      <td>Male</td>\n",
       "      <td>Handbag</td>\n",
       "      <td>Accessories</td>\n",
       "      <td>31</td>\n",
       "      <td>Missouri</td>\n",
       "      <td>M</td>\n",
       "      <td>Pink</td>\n",
       "      <td>Spring</td>\n",
       "      <td>4.8</td>\n",
       "      <td>Yes</td>\n",
       "      <td>2-Day Shipping</td>\n",
       "      <td>Yes</td>\n",
       "      <td>Yes</td>\n",
       "      <td>4</td>\n",
       "      <td>Cash</td>\n",
       "      <td>Quarterly</td>\n",
       "    </tr>\n",
       "    <tr>\n",
       "      <th>10</th>\n",
       "      <td>11</td>\n",
       "      <td>53</td>\n",
       "      <td>Male</td>\n",
       "      <td>Shoes</td>\n",
       "      <td>Footwear</td>\n",
       "      <td>34</td>\n",
       "      <td>Arkansas</td>\n",
       "      <td>L</td>\n",
       "      <td>Purple</td>\n",
       "      <td>Fall</td>\n",
       "      <td>4.1</td>\n",
       "      <td>Yes</td>\n",
       "      <td>Store Pickup</td>\n",
       "      <td>Yes</td>\n",
       "      <td>Yes</td>\n",
       "      <td>26</td>\n",
       "      <td>Bank Transfer</td>\n",
       "      <td>Bi-Weekly</td>\n",
       "    </tr>\n",
       "    <tr>\n",
       "      <th>11</th>\n",
       "      <td>12</td>\n",
       "      <td>30</td>\n",
       "      <td>Male</td>\n",
       "      <td>Shorts</td>\n",
       "      <td>Clothing</td>\n",
       "      <td>68</td>\n",
       "      <td>Hawaii</td>\n",
       "      <td>S</td>\n",
       "      <td>Olive</td>\n",
       "      <td>Winter</td>\n",
       "      <td>4.9</td>\n",
       "      <td>Yes</td>\n",
       "      <td>Store Pickup</td>\n",
       "      <td>Yes</td>\n",
       "      <td>Yes</td>\n",
       "      <td>10</td>\n",
       "      <td>Bank Transfer</td>\n",
       "      <td>Fortnightly</td>\n",
       "    </tr>\n",
       "    <tr>\n",
       "      <th>12</th>\n",
       "      <td>13</td>\n",
       "      <td>61</td>\n",
       "      <td>Male</td>\n",
       "      <td>Coat</td>\n",
       "      <td>Outerwear</td>\n",
       "      <td>72</td>\n",
       "      <td>Delaware</td>\n",
       "      <td>M</td>\n",
       "      <td>Gold</td>\n",
       "      <td>Winter</td>\n",
       "      <td>4.5</td>\n",
       "      <td>Yes</td>\n",
       "      <td>Express</td>\n",
       "      <td>Yes</td>\n",
       "      <td>Yes</td>\n",
       "      <td>37</td>\n",
       "      <td>Venmo</td>\n",
       "      <td>Fortnightly</td>\n",
       "    </tr>\n",
       "    <tr>\n",
       "      <th>13</th>\n",
       "      <td>14</td>\n",
       "      <td>65</td>\n",
       "      <td>Male</td>\n",
       "      <td>Dress</td>\n",
       "      <td>Clothing</td>\n",
       "      <td>51</td>\n",
       "      <td>New Hampshire</td>\n",
       "      <td>M</td>\n",
       "      <td>Violet</td>\n",
       "      <td>Spring</td>\n",
       "      <td>4.7</td>\n",
       "      <td>Yes</td>\n",
       "      <td>Express</td>\n",
       "      <td>Yes</td>\n",
       "      <td>Yes</td>\n",
       "      <td>31</td>\n",
       "      <td>PayPal</td>\n",
       "      <td>Weekly</td>\n",
       "    </tr>\n",
       "    <tr>\n",
       "      <th>14</th>\n",
       "      <td>15</td>\n",
       "      <td>64</td>\n",
       "      <td>Male</td>\n",
       "      <td>Coat</td>\n",
       "      <td>Outerwear</td>\n",
       "      <td>53</td>\n",
       "      <td>New York</td>\n",
       "      <td>L</td>\n",
       "      <td>Teal</td>\n",
       "      <td>Winter</td>\n",
       "      <td>4.7</td>\n",
       "      <td>Yes</td>\n",
       "      <td>Free Shipping</td>\n",
       "      <td>Yes</td>\n",
       "      <td>Yes</td>\n",
       "      <td>34</td>\n",
       "      <td>Debit Card</td>\n",
       "      <td>Weekly</td>\n",
       "    </tr>\n",
       "    <tr>\n",
       "      <th>15</th>\n",
       "      <td>16</td>\n",
       "      <td>64</td>\n",
       "      <td>Male</td>\n",
       "      <td>Skirt</td>\n",
       "      <td>Clothing</td>\n",
       "      <td>81</td>\n",
       "      <td>Rhode Island</td>\n",
       "      <td>M</td>\n",
       "      <td>Teal</td>\n",
       "      <td>Winter</td>\n",
       "      <td>2.8</td>\n",
       "      <td>Yes</td>\n",
       "      <td>Store Pickup</td>\n",
       "      <td>Yes</td>\n",
       "      <td>Yes</td>\n",
       "      <td>8</td>\n",
       "      <td>PayPal</td>\n",
       "      <td>Monthly</td>\n",
       "    </tr>\n",
       "    <tr>\n",
       "      <th>16</th>\n",
       "      <td>17</td>\n",
       "      <td>25</td>\n",
       "      <td>Male</td>\n",
       "      <td>Sunglasses</td>\n",
       "      <td>Accessories</td>\n",
       "      <td>36</td>\n",
       "      <td>Alabama</td>\n",
       "      <td>S</td>\n",
       "      <td>Gray</td>\n",
       "      <td>Spring</td>\n",
       "      <td>4.1</td>\n",
       "      <td>Yes</td>\n",
       "      <td>Next Day Air</td>\n",
       "      <td>Yes</td>\n",
       "      <td>Yes</td>\n",
       "      <td>44</td>\n",
       "      <td>Debit Card</td>\n",
       "      <td>Bi-Weekly</td>\n",
       "    </tr>\n",
       "    <tr>\n",
       "      <th>17</th>\n",
       "      <td>18</td>\n",
       "      <td>53</td>\n",
       "      <td>Male</td>\n",
       "      <td>Dress</td>\n",
       "      <td>Clothing</td>\n",
       "      <td>38</td>\n",
       "      <td>Mississippi</td>\n",
       "      <td>XL</td>\n",
       "      <td>Lavender</td>\n",
       "      <td>Winter</td>\n",
       "      <td>4.7</td>\n",
       "      <td>Yes</td>\n",
       "      <td>2-Day Shipping</td>\n",
       "      <td>Yes</td>\n",
       "      <td>Yes</td>\n",
       "      <td>36</td>\n",
       "      <td>Venmo</td>\n",
       "      <td>Quarterly</td>\n",
       "    </tr>\n",
       "    <tr>\n",
       "      <th>18</th>\n",
       "      <td>19</td>\n",
       "      <td>52</td>\n",
       "      <td>Male</td>\n",
       "      <td>Sweater</td>\n",
       "      <td>Clothing</td>\n",
       "      <td>48</td>\n",
       "      <td>Montana</td>\n",
       "      <td>S</td>\n",
       "      <td>Black</td>\n",
       "      <td>Summer</td>\n",
       "      <td>4.6</td>\n",
       "      <td>Yes</td>\n",
       "      <td>Free Shipping</td>\n",
       "      <td>Yes</td>\n",
       "      <td>Yes</td>\n",
       "      <td>17</td>\n",
       "      <td>Cash</td>\n",
       "      <td>Weekly</td>\n",
       "    </tr>\n",
       "    <tr>\n",
       "      <th>19</th>\n",
       "      <td>20</td>\n",
       "      <td>66</td>\n",
       "      <td>Male</td>\n",
       "      <td>Pants</td>\n",
       "      <td>Clothing</td>\n",
       "      <td>90</td>\n",
       "      <td>Rhode Island</td>\n",
       "      <td>M</td>\n",
       "      <td>Green</td>\n",
       "      <td>Summer</td>\n",
       "      <td>3.3</td>\n",
       "      <td>Yes</td>\n",
       "      <td>Standard</td>\n",
       "      <td>Yes</td>\n",
       "      <td>Yes</td>\n",
       "      <td>46</td>\n",
       "      <td>Debit Card</td>\n",
       "      <td>Bi-Weekly</td>\n",
       "    </tr>\n",
       "  </tbody>\n",
       "</table>\n",
       "</div>"
      ],
      "text/plain": [
       "    Customer ID  Age Gender Item Purchased     Category  \\\n",
       "0             1   55   Male         Blouse     Clothing   \n",
       "1             2   19   Male        Sweater     Clothing   \n",
       "2             3   50   Male          Jeans     Clothing   \n",
       "3             4   21   Male        Sandals     Footwear   \n",
       "4             5   45   Male         Blouse     Clothing   \n",
       "5             6   46   Male       Sneakers     Footwear   \n",
       "6             7   63   Male          Shirt     Clothing   \n",
       "7             8   27   Male         Shorts     Clothing   \n",
       "8             9   26   Male           Coat    Outerwear   \n",
       "9            10   57   Male        Handbag  Accessories   \n",
       "10           11   53   Male          Shoes     Footwear   \n",
       "11           12   30   Male         Shorts     Clothing   \n",
       "12           13   61   Male           Coat    Outerwear   \n",
       "13           14   65   Male          Dress     Clothing   \n",
       "14           15   64   Male           Coat    Outerwear   \n",
       "15           16   64   Male          Skirt     Clothing   \n",
       "16           17   25   Male     Sunglasses  Accessories   \n",
       "17           18   53   Male          Dress     Clothing   \n",
       "18           19   52   Male        Sweater     Clothing   \n",
       "19           20   66   Male          Pants     Clothing   \n",
       "\n",
       "    Purchase Amount (USD)       Location Size      Color  Season  \\\n",
       "0                      53       Kentucky    L       Gray  Winter   \n",
       "1                      64          Maine    L     Maroon  Winter   \n",
       "2                      73  Massachusetts    S     Maroon  Spring   \n",
       "3                      90   Rhode Island    M     Maroon  Spring   \n",
       "4                      49         Oregon    M  Turquoise  Spring   \n",
       "5                      20        Wyoming    M      White  Summer   \n",
       "6                      85        Montana    M       Gray    Fall   \n",
       "7                      34      Louisiana    L   Charcoal  Winter   \n",
       "8                      97  West Virginia    L     Silver  Summer   \n",
       "9                      31       Missouri    M       Pink  Spring   \n",
       "10                     34       Arkansas    L     Purple    Fall   \n",
       "11                     68         Hawaii    S      Olive  Winter   \n",
       "12                     72       Delaware    M       Gold  Winter   \n",
       "13                     51  New Hampshire    M     Violet  Spring   \n",
       "14                     53       New York    L       Teal  Winter   \n",
       "15                     81   Rhode Island    M       Teal  Winter   \n",
       "16                     36        Alabama    S       Gray  Spring   \n",
       "17                     38    Mississippi   XL   Lavender  Winter   \n",
       "18                     48        Montana    S      Black  Summer   \n",
       "19                     90   Rhode Island    M      Green  Summer   \n",
       "\n",
       "    Review Rating Subscription Status   Shipping Type Discount Applied  \\\n",
       "0             3.1                 Yes         Express              Yes   \n",
       "1             3.1                 Yes         Express              Yes   \n",
       "2             3.1                 Yes   Free Shipping              Yes   \n",
       "3             3.5                 Yes    Next Day Air              Yes   \n",
       "4             2.7                 Yes   Free Shipping              Yes   \n",
       "5             2.9                 Yes        Standard              Yes   \n",
       "6             3.2                 Yes   Free Shipping              Yes   \n",
       "7             3.2                 Yes   Free Shipping              Yes   \n",
       "8             2.6                 Yes         Express              Yes   \n",
       "9             4.8                 Yes  2-Day Shipping              Yes   \n",
       "10            4.1                 Yes    Store Pickup              Yes   \n",
       "11            4.9                 Yes    Store Pickup              Yes   \n",
       "12            4.5                 Yes         Express              Yes   \n",
       "13            4.7                 Yes         Express              Yes   \n",
       "14            4.7                 Yes   Free Shipping              Yes   \n",
       "15            2.8                 Yes    Store Pickup              Yes   \n",
       "16            4.1                 Yes    Next Day Air              Yes   \n",
       "17            4.7                 Yes  2-Day Shipping              Yes   \n",
       "18            4.6                 Yes   Free Shipping              Yes   \n",
       "19            3.3                 Yes        Standard              Yes   \n",
       "\n",
       "   Promo Code Used  Previous Purchases Payment Method Frequency of Purchases  \n",
       "0              Yes                  14          Venmo            Fortnightly  \n",
       "1              Yes                   2           Cash            Fortnightly  \n",
       "2              Yes                  23    Credit Card                 Weekly  \n",
       "3              Yes                  49         PayPal                 Weekly  \n",
       "4              Yes                  31         PayPal               Annually  \n",
       "5              Yes                  14          Venmo                 Weekly  \n",
       "6              Yes                  49           Cash              Quarterly  \n",
       "7              Yes                  19    Credit Card                 Weekly  \n",
       "8              Yes                   8          Venmo               Annually  \n",
       "9              Yes                   4           Cash              Quarterly  \n",
       "10             Yes                  26  Bank Transfer              Bi-Weekly  \n",
       "11             Yes                  10  Bank Transfer            Fortnightly  \n",
       "12             Yes                  37          Venmo            Fortnightly  \n",
       "13             Yes                  31         PayPal                 Weekly  \n",
       "14             Yes                  34     Debit Card                 Weekly  \n",
       "15             Yes                   8         PayPal                Monthly  \n",
       "16             Yes                  44     Debit Card              Bi-Weekly  \n",
       "17             Yes                  36          Venmo              Quarterly  \n",
       "18             Yes                  17           Cash                 Weekly  \n",
       "19             Yes                  46     Debit Card              Bi-Weekly  "
      ]
     },
     "execution_count": 6,
     "metadata": {},
     "output_type": "execute_result"
    }
   ],
   "source": [
    "df.head(20)"
   ]
  },
  {
   "cell_type": "markdown",
   "metadata": {},
   "source": [
    "<h1>Задание 2.1</h1>"
   ]
  },
  {
   "cell_type": "markdown",
   "metadata": {},
   "source": [
    "На основании данных из задания 1 необходимо составить максимальное(миним 5) кол-во гипотез о корреляциях между отдельными столбцами и проверить их (аналогично воршопу). При этом при составлении гипотез можно рассматривать не полный df, а именно выборки (например: \"женщины старше 40 лет покапают в основном осенью\")"
   ]
  },
  {
   "cell_type": "code",
   "execution_count": 90,
   "metadata": {},
   "outputs": [
    {
     "data": {
      "text/plain": [
       "array(['Fortnightly', 'Weekly', 'Annually', 'Quarterly', 'Bi-Weekly',\n",
       "       'Monthly', 'Every 3 Months'], dtype=object)"
      ]
     },
     "execution_count": 90,
     "metadata": {},
     "output_type": "execute_result"
    }
   ],
   "source": [
    "#гипотеза 1: \n",
    "df['Frequency of Purchases'].unique ()"
   ]
  },
  {
   "cell_type": "code",
   "execution_count": 22,
   "metadata": {},
   "outputs": [
    {
     "data": {
      "image/png": "[encoded data removed]",
      "text/plain": [
       "<Figure size 1440x360 with 1 Axes>"
      ]
     },
     "metadata": {
      "needs_background": "light"
     },
     "output_type": "display_data"
    }
   ],
   "source": [
    "import matplotlib.pyplot as plt\n",
    "fig, ax = plt.subplots(figsize = (20, 5))\n",
    "\n",
    "ax.hist(df['Age'], bins = 50, edgecolor = 'black', color = 'skyblue')\n",
    "\n",
    "ax.set_xlabel('Age')\n",
    "ax.set_ylabel('Count')\n",
    "plt.show()"
   ]
  },
  {
   "cell_type": "code",
   "execution_count": 23,
   "metadata": {},
   "outputs": [
    {
     "name": "stdout",
     "output_type": "stream",
     "text": [
      "Most Common Season for Purchases: Spring\n"
     ]
    }
   ],
   "source": [
    "most_common_season = df['Season'].mode()[0]\n",
    "print(\"Most Common Season for Purchases:\", most_common_season)"
   ]
  },
  {
   "cell_type": "code",
   "execution_count": 27,
   "metadata": {},
   "outputs": [
    {
     "name": "stdout",
     "output_type": "stream",
     "text": [
      "999 975 971 955\n"
     ]
    }
   ],
   "source": [
    "print(len(df[df['Season']=='Spring']), len(df[df['Season']=='Fall']), len(df[df['Season']=='Winter']), len(df[df['Season']=='Summer']))"
   ]
  },
  {
   "cell_type": "code",
   "execution_count": 34,
   "metadata": {},
   "outputs": [
    {
     "name": "stdout",
     "output_type": "stream",
     "text": [
      "0.31975867269984914\n",
      "0.3141025641025641\n"
     ]
    }
   ],
   "source": [
    "#гипотеза - женщины чаще покупают аксессуары, чем мужчины - неверная\n",
    "print(len(df[(df['Gender']=='Male') &(df['Category']=='Accessories')])/len(df[df['Gender']=='Male']))\n",
    "print(len(df[(df['Gender']=='Female') &(df['Category']=='Accessories')])/len(df[df['Gender']=='Female']))"
   ]
  },
  {
   "cell_type": "code",
   "execution_count": 40,
   "metadata": {},
   "outputs": [
    {
     "data": {
      "text/plain": [
       "<Figure size 1440x432 with 0 Axes>"
      ]
     },
     "metadata": {},
     "output_type": "display_data"
    },
    {
     "data": {
      "image/png": "[encoded data removed]",
      "text/plain": [
       "<Figure size 432x288 with 1 Axes>"
      ]
     },
     "metadata": {
      "needs_background": "light"
     },
     "output_type": "display_data"
    }
   ],
   "source": [
    "subscription_gender_counts = df.groupby(['Gender', 'Category']).size().unstack()\n",
    "plt.figure(figsize = (20, 6))\n",
    "subscription_gender_counts.plot(kind='bar', stacked=True, rot = 0);\n",
    "plt.title('Category by Gender')\n",
    "plt.xlabel('Gender')\n",
    "plt.ylabel('Count')\n",
    "plt.show();"
   ]
  },
  {
   "cell_type": "code",
   "execution_count": 100,
   "metadata": {},
   "outputs": [
    {
     "data": {
      "image/png": "[encoded data removed]",
      "text/plain": [
       "<Figure size 1440x360 with 1 Axes>"
      ]
     },
     "metadata": {
      "needs_background": "light"
     },
     "output_type": "display_data"
    }
   ],
   "source": [
    "plt.figure(figsize=(20, 5))\n",
    "sns.barplot(x='Payment Method', y='Purchase Amount (USD)', hue='Gender', data=df)\n",
    "plt.title('Purchase Amount by Gender and Payment Method')\n",
    "plt.xlabel('Payment Method')\n",
    "plt.ylabel('Purchase Amount (USD)')\n",
    "plt.xticks(rotation = 0)\n",
    "plt.show()"
   ]
  },
  {
   "cell_type": "code",
   "execution_count": 102,
   "metadata": {},
   "outputs": [
    {
     "data": {
      "image/png": "[encoded data removed]",
      "text/plain": [
       "<Figure size 1440x360 with 1 Axes>"
      ]
     },
     "metadata": {
      "needs_background": "light"
     },
     "output_type": "display_data"
    }
   ],
   "source": [
    "plt.figure(figsize=(20, 5))\n",
    "sns.barplot(x='Payment Method', y='Purchase Amount (USD)', hue='Category', data=df)\n",
    "plt.title('Purchase Amount by Category and Payment Method')\n",
    "plt.xlabel('Payment Method')\n",
    "plt.ylabel('Purchase Amount (USD)')\n",
    "plt.xticks(rotation = 0)\n",
    "plt.show()"
   ]
  },
  {
   "cell_type": "code",
   "execution_count": 55,
   "metadata": {},
   "outputs": [
    {
     "name": "stdout",
     "output_type": "stream",
     "text": [
      "1677\n",
      "2223\n",
      "Average Purchase Amount (USD) у тех у кого Promo Code Used: 59.27906976744186\n",
      "Average Purchase Amount (USD) у тех у кого no Promo Code Used: 60.130454340980656\n"
     ]
    }
   ],
   "source": [
    "#гипотеза: те, кто применяли промокод, тратили больше денег - неверно\n",
    "print(len(df[df['Promo Code Used']=='Yes']))\n",
    "print(len(df[df['Promo Code Used']=='No']))\n",
    "average_sum_yes = df[df['Promo Code Used'] == 'Yes']['Purchase Amount (USD)'].mean()\n",
    "print(\"Average Purchase Amount (USD) у тех у кого Promo Code Used:\", average_sum_yes)\n",
    "average_sum_yes = df[df['Promo Code Used'] == 'No']['Purchase Amount (USD)'].mean()\n",
    "print(\"Average Purchase Amount (USD) у тех у кого no Promo Code Used:\", average_sum_yes)"
   ]
  },
  {
   "cell_type": "code",
   "execution_count": 52,
   "metadata": {},
   "outputs": [
    {
     "data": {
      "text/plain": [
       "<AxesSubplot:xlabel='Category', ylabel='count'>"
      ]
     },
     "execution_count": 52,
     "metadata": {},
     "output_type": "execute_result"
    },
    {
     "data": {
      "image/png": "[encoded data removed]",
      "text/plain": [
       "<Figure size 432x288 with 1 Axes>"
      ]
     },
     "metadata": {
      "needs_background": "light"
     },
     "output_type": "display_data"
    }
   ],
   "source": [
    "#гипотеза: M - самый популярный размер - верно\n",
    "sns.countplot(x='Category', hue='Size', data=df)"
   ]
  },
  {
   "cell_type": "code",
   "execution_count": 103,
   "metadata": {},
   "outputs": [
    {
     "data": {
      "image/png": "[encoded data removed]",
      "text/plain": [
       "<Figure size 432x288 with 2 Axes>"
      ]
     },
     "metadata": {
      "needs_background": "light"
     },
     "output_type": "display_data"
    }
   ],
   "source": [
    "plt.hexbin(df['Age'], df['Review Rating'], gridsize=20, cmap='Blues')\n",
    "plt.title('Hexbin Plot of Age vs. Review Rating')\n",
    "plt.xlabel('Age')\n",
    "plt.ylabel('Review Rating')\n",
    "plt.colorbar()\n",
    "plt.show()"
   ]
  },
  {
   "cell_type": "code",
   "execution_count": 64,
   "metadata": {},
   "outputs": [
    {
     "data": {
      "text/plain": [
       "Gender\n",
       "Female    0.003213\n",
       "Male      0.043821\n",
       "Name: (Purchase Amount (USD), Review Rating), dtype: float64"
      ]
     },
     "execution_count": 64,
     "metadata": {},
     "output_type": "execute_result"
    }
   ],
   "source": [
    "#гипотеза: чем выше рейтинг, тем больше денег потрачено - для мужчин корреляция выше, чем для женщин\n",
    "df.groupby('Gender')[['Purchase Amount (USD)','Review Rating']]. corr().unstack().iloc [:, 1 ]"
   ]
  },
  {
   "cell_type": "code",
   "execution_count": 104,
   "metadata": {},
   "outputs": [
    {
     "name": "stdout",
     "output_type": "stream",
     "text": [
      "С подпиской: 59.49192782526116\n",
      "Без подписки: 59.865121180189675\n"
     ]
    }
   ],
   "source": [
    "#гипотеза: средняя стоимость покупки выше у людей с подпиской - -неверная\n",
    "avg_yes = df[df['Subscription Status'] == 'Yes']['Purchase Amount (USD)'].mean()\n",
    "avg_no = df[df['Subscription Status'] == 'No']['Purchase Amount (USD)'].mean()\n",
    "print(\"С подпиской:\", avg_yes)\n",
    "print(\"Без подписки:\", avg_no)"
   ]
  },
  {
   "cell_type": "code",
   "execution_count": null,
   "metadata": {},
   "outputs": [],
   "source": []
  },
  {
   "cell_type": "markdown",
   "metadata": {},
   "source": [
    "<h1>Задание 2.2</h1>"
   ]
  },
  {
   "cell_type": "markdown",
   "metadata": {},
   "source": [
    "Помимо гипотез, давайте найдем самый популярный товар, построим распределение покупателей по полу, определим какой пол(и отдельно возраст) покупает больше всего, чаще всего, самые дорогие товары. Определим есть ли зависимость между цветом одежды и сезоном. Так же посчитаем наш сезонный mau (уникальных пользователей за сезон) и его динамику. Так же давайте найдем самую популярную букву в названии одежды. "
   ]
  },
  {
   "cell_type": "code",
   "execution_count": 68,
   "metadata": {},
   "outputs": [
    {
     "name": "stdout",
     "output_type": "stream",
     "text": [
      "Blouse\n"
     ]
    }
   ],
   "source": [
    "most_common_item = df['Item Purchased'].mode()[0]\n",
    "print(most_common_item)"
   ]
  },
  {
   "cell_type": "code",
   "execution_count": 70,
   "metadata": {},
   "outputs": [
    {
     "data": {
      "text/plain": [
       "Blouse        171\n",
       "Jewelry       171\n",
       "Pants         171\n",
       "Shirt         169\n",
       "Dress         166\n",
       "Sweater       164\n",
       "Jacket        163\n",
       "Belt          161\n",
       "Sunglasses    161\n",
       "Coat          161\n",
       "Sandals       160\n",
       "Socks         159\n",
       "Skirt         158\n",
       "Shorts        157\n",
       "Scarf         157\n",
       "Hat           154\n",
       "Handbag       153\n",
       "Hoodie        151\n",
       "Shoes         150\n",
       "T-shirt       147\n",
       "Sneakers      145\n",
       "Boots         144\n",
       "Backpack      143\n",
       "Gloves        140\n",
       "Jeans         124\n",
       "Name: Item Purchased, dtype: int64"
      ]
     },
     "execution_count": 70,
     "metadata": {},
     "output_type": "execute_result"
    }
   ],
   "source": [
    "#по факту получается, что не только блузка, но и украшения и брюки\n",
    "df[\"Item Purchased\"].value_counts()\n"
   ]
  },
  {
   "cell_type": "code",
   "execution_count": 71,
   "metadata": {},
   "outputs": [
    {
     "name": "stdout",
     "output_type": "stream",
     "text": [
      "Самый популярный товар: Blouse, Jewelry, Pants\n"
     ]
    }
   ],
   "source": [
    "print('Самый популярный товар: Blouse, Jewelry, Pants')"
   ]
  },
  {
   "cell_type": "code",
   "execution_count": 79,
   "metadata": {},
   "outputs": [
    {
     "data": {
      "image/png": "[encoded data removed]",
      "text/plain": [
       "<Figure size 1440x432 with 1 Axes>"
      ]
     },
     "metadata": {},
     "output_type": "display_data"
    }
   ],
   "source": [
    "#распределение покупателей по полу\n",
    "plt.figure(figsize = (20, 6))\n",
    "\n",
    "counts = df['Gender'].value_counts()\n",
    "explode = (0, 0.1)\n",
    "\n",
    "counts.plot(kind = 'pie', fontsize = 12, explode = explode, autopct = '%1.1f%%')\n",
    "plt.xlabel('Распределение пола')\n",
    "plt.axis('equal')\n",
    "plt.show()"
   ]
  },
  {
   "cell_type": "code",
   "execution_count": 81,
   "metadata": {},
   "outputs": [
    {
     "data": {
      "text/plain": [
       "Male      2652\n",
       "Female    1248\n",
       "Name: Gender, dtype: int64"
      ]
     },
     "execution_count": 81,
     "metadata": {},
     "output_type": "execute_result"
    }
   ],
   "source": [
    "df[\"Gender\"].value_counts()"
   ]
  },
  {
   "cell_type": "code",
   "execution_count": 85,
   "metadata": {},
   "outputs": [
    {
     "name": "stdout",
     "output_type": "stream",
     "text": [
      "25.707013574660632\n",
      "24.596153846153847\n"
     ]
    }
   ],
   "source": [
    "#больше покупают мужчины - общее количество покупок пола делю на количество людей\n",
    "print(df.loc[df['Gender'] == 'Male', 'Previous Purchases'].sum()/len(df[df['Gender']=='Male']))\n",
    "print(df.loc[df['Gender'] == 'Female', 'Previous Purchases'].sum()/len(df[df['Gender']=='Female']))"
   ]
  },
  {
   "cell_type": "code",
   "execution_count": 89,
   "metadata": {},
   "outputs": [
    {
     "data": {
      "image/png": "[encoded data removed]",
      "text/plain": [
       "<Figure size 1440x360 with 1 Axes>"
      ]
     },
     "metadata": {
      "needs_background": "light"
     },
     "output_type": "display_data"
    }
   ],
   "source": [
    "#больше всего покупок - у людей в возрасте 52, 57\n",
    "plt.figure(figsize=(20, 5))\n",
    "sns.barplot(x='Age', y='Previous Purchases', data=df)\n",
    "plt.title('Зависимость трат от возраста')\n",
    "plt.xlabel('Age')\n",
    "plt.ylabel('Previous Purchases')\n",
    "plt.show()"
   ]
  },
  {
   "cell_type": "code",
   "execution_count": 95,
   "metadata": {},
   "outputs": [
    {
     "name": "stdout",
     "output_type": "stream",
     "text": [
      "0.13536953242835595\n",
      "0.15064102564102563\n"
     ]
    }
   ],
   "source": [
    "#женщины покупают чаще\n",
    "print(len(df[(df['Gender']=='Male') &(df['Frequency of Purchases']=='Bi-Weekly')])/len(df[df['Gender']=='Male']))\n",
    "print(len(df[(df['Gender']=='Female') &(df['Frequency of Purchases']=='Bi-Weekly')])/len(df[df['Gender']=='Female']))"
   ]
  },
  {
   "cell_type": "markdown",
   "metadata": {},
   "source": [
    "<h1>Задание 3</h1> \n",
    "\n",
    "У нас есть данные о потреблении алкоголя о потреблнеии Алкоголя в мире https://github.com/fivethirtyeight/data/tree/master/alcohol-consumption. \n",
    "\n",
    "Давайте представим эти данные в виде df, где же люди пьют больше вина, пива и других спиртных напитков."
   ]
  },
  {
   "cell_type": "code",
   "execution_count": 108,
   "metadata": {},
   "outputs": [],
   "source": [
    "df = pd.read_csv('drinks.csv')\n"
   ]
  },
  {
   "cell_type": "code",
   "execution_count": 109,
   "metadata": {},
   "outputs": [
    {
     "name": "stdout",
     "output_type": "stream",
     "text": [
      "<class 'pandas.core.frame.DataFrame'>\n",
      "RangeIndex: 193 entries, 0 to 192\n",
      "Data columns (total 5 columns):\n",
      " #   Column                        Non-Null Count  Dtype  \n",
      "---  ------                        --------------  -----  \n",
      " 0   country                       193 non-null    object \n",
      " 1   beer_servings                 193 non-null    int64  \n",
      " 2   spirit_servings               193 non-null    int64  \n",
      " 3   wine_servings                 193 non-null    int64  \n",
      " 4   total_litres_of_pure_alcohol  193 non-null    float64\n",
      "dtypes: float64(1), int64(3), object(1)\n",
      "memory usage: 7.7+ KB\n"
     ]
    }
   ],
   "source": [
    "df.info()"
   ]
  },
  {
   "cell_type": "code",
   "execution_count": 115,
   "metadata": {},
   "outputs": [
    {
     "data": {
      "text/html": [
       "<div>\n",
       "<style scoped>\n",
       "    .dataframe tbody tr th:only-of-type {\n",
       "        vertical-align: middle;\n",
       "    }\n",
       "\n",
       "    .dataframe tbody tr th {\n",
       "        vertical-align: top;\n",
       "    }\n",
       "\n",
       "    .dataframe thead th {\n",
       "        text-align: right;\n",
       "    }\n",
       "</style>\n",
       "<table border=\"1\" class=\"dataframe\">\n",
       "  <thead>\n",
       "    <tr style=\"text-align: right;\">\n",
       "      <th></th>\n",
       "      <th>country</th>\n",
       "      <th>beer_servings</th>\n",
       "      <th>spirit_servings</th>\n",
       "      <th>wine_servings</th>\n",
       "      <th>total_litres_of_pure_alcohol</th>\n",
       "    </tr>\n",
       "  </thead>\n",
       "  <tbody>\n",
       "    <tr>\n",
       "      <th>0</th>\n",
       "      <td>Afghanistan</td>\n",
       "      <td>0</td>\n",
       "      <td>0</td>\n",
       "      <td>0</td>\n",
       "      <td>0.0</td>\n",
       "    </tr>\n",
       "    <tr>\n",
       "      <th>1</th>\n",
       "      <td>Albania</td>\n",
       "      <td>89</td>\n",
       "      <td>132</td>\n",
       "      <td>54</td>\n",
       "      <td>4.9</td>\n",
       "    </tr>\n",
       "    <tr>\n",
       "      <th>2</th>\n",
       "      <td>Algeria</td>\n",
       "      <td>25</td>\n",
       "      <td>0</td>\n",
       "      <td>14</td>\n",
       "      <td>0.7</td>\n",
       "    </tr>\n",
       "    <tr>\n",
       "      <th>3</th>\n",
       "      <td>Andorra</td>\n",
       "      <td>245</td>\n",
       "      <td>138</td>\n",
       "      <td>312</td>\n",
       "      <td>12.4</td>\n",
       "    </tr>\n",
       "    <tr>\n",
       "      <th>4</th>\n",
       "      <td>Angola</td>\n",
       "      <td>217</td>\n",
       "      <td>57</td>\n",
       "      <td>45</td>\n",
       "      <td>5.9</td>\n",
       "    </tr>\n",
       "  </tbody>\n",
       "</table>\n",
       "</div>"
      ],
      "text/plain": [
       "       country  beer_servings  spirit_servings  wine_servings  \\\n",
       "0  Afghanistan              0                0              0   \n",
       "1      Albania             89              132             54   \n",
       "2      Algeria             25                0             14   \n",
       "3      Andorra            245              138            312   \n",
       "4       Angola            217               57             45   \n",
       "\n",
       "   total_litres_of_pure_alcohol  \n",
       "0                           0.0  \n",
       "1                           4.9  \n",
       "2                           0.7  \n",
       "3                          12.4  \n",
       "4                           5.9  "
      ]
     },
     "execution_count": 115,
     "metadata": {},
     "output_type": "execute_result"
    }
   ],
   "source": [
    "df.head()"
   ]
  },
  {
   "cell_type": "code",
   "execution_count": 120,
   "metadata": {},
   "outputs": [
    {
     "name": "stdout",
     "output_type": "stream",
     "text": [
      "Max beer: 117    Namibia\n",
      "Name: country, dtype: object\n",
      "Max wine: 61    France\n",
      "Name: country, dtype: object\n",
      "Max spirit: 68    Grenada\n",
      "Name: country, dtype: object\n",
      "Max total: 15    Belarus\n",
      "Name: country, dtype: object\n"
     ]
    }
   ],
   "source": [
    "max_beer = df[df['beer_servings']==df['beer_servings'].max()]\n",
    "max_spirit = df[df['spirit_servings']==df['spirit_servings'].max()]\n",
    "max_wine = df[df['wine_servings']==df['wine_servings'].max()]\n",
    "max_total = df[df['total_litres_of_pure_alcohol']==df['total_litres_of_pure_alcohol'].max()]\n",
    "\n",
    "print('Max beer:', max_beer['country'])\n",
    "print('Max wine:', max_wine['country'])\n",
    "print('Max spirit:', max_spirit['country'])\n",
    "print('Max total:', max_total['country'])"
   ]
  },
  {
   "cell_type": "markdown",
   "metadata": {},
   "source": [
    "<h1>Задание 4</h1> \n",
    "\n",
    "У нас есть Полный каталог всех случаев, когда кто-то проклинал или истекал кровью в фильме Квентина Тарантино. https://github.com/fivethirtyeight/data/tree/master/tarantino\n",
    "\n",
    "Давайте представим эти данные в виде df и определим:\n",
    "\n",
    "- число проклятий, летальных исходов и их отношение по фильмам \n",
    "\n",
    "- частота употребления конкретных прокрятий \n",
    "\n",
    "- распределение времени между проклятиями "
   ]
  },
  {
   "cell_type": "code",
   "execution_count": 123,
   "metadata": {},
   "outputs": [],
   "source": [
    "df = pd.read_csv('tarantino.csv')"
   ]
  },
  {
   "cell_type": "code",
   "execution_count": 124,
   "metadata": {},
   "outputs": [
    {
     "data": {
      "text/html": [
       "<div>\n",
       "<style scoped>\n",
       "    .dataframe tbody tr th:only-of-type {\n",
       "        vertical-align: middle;\n",
       "    }\n",
       "\n",
       "    .dataframe tbody tr th {\n",
       "        vertical-align: top;\n",
       "    }\n",
       "\n",
       "    .dataframe thead th {\n",
       "        text-align: right;\n",
       "    }\n",
       "</style>\n",
       "<table border=\"1\" class=\"dataframe\">\n",
       "  <thead>\n",
       "    <tr style=\"text-align: right;\">\n",
       "      <th></th>\n",
       "      <th>movie</th>\n",
       "      <th>type</th>\n",
       "      <th>word</th>\n",
       "      <th>minutes_in</th>\n",
       "    </tr>\n",
       "  </thead>\n",
       "  <tbody>\n",
       "    <tr>\n",
       "      <th>0</th>\n",
       "      <td>Reservoir Dogs</td>\n",
       "      <td>word</td>\n",
       "      <td>dick</td>\n",
       "      <td>0.40</td>\n",
       "    </tr>\n",
       "    <tr>\n",
       "      <th>1</th>\n",
       "      <td>Reservoir Dogs</td>\n",
       "      <td>word</td>\n",
       "      <td>dicks</td>\n",
       "      <td>0.43</td>\n",
       "    </tr>\n",
       "    <tr>\n",
       "      <th>2</th>\n",
       "      <td>Reservoir Dogs</td>\n",
       "      <td>word</td>\n",
       "      <td>fucked</td>\n",
       "      <td>0.55</td>\n",
       "    </tr>\n",
       "    <tr>\n",
       "      <th>3</th>\n",
       "      <td>Reservoir Dogs</td>\n",
       "      <td>word</td>\n",
       "      <td>fucking</td>\n",
       "      <td>0.61</td>\n",
       "    </tr>\n",
       "    <tr>\n",
       "      <th>4</th>\n",
       "      <td>Reservoir Dogs</td>\n",
       "      <td>word</td>\n",
       "      <td>bullshit</td>\n",
       "      <td>0.61</td>\n",
       "    </tr>\n",
       "  </tbody>\n",
       "</table>\n",
       "</div>"
      ],
      "text/plain": [
       "            movie  type      word  minutes_in\n",
       "0  Reservoir Dogs  word      dick        0.40\n",
       "1  Reservoir Dogs  word     dicks        0.43\n",
       "2  Reservoir Dogs  word    fucked        0.55\n",
       "3  Reservoir Dogs  word   fucking        0.61\n",
       "4  Reservoir Dogs  word  bullshit        0.61"
      ]
     },
     "execution_count": 124,
     "metadata": {},
     "output_type": "execute_result"
    }
   ],
   "source": [
    "df.head(5)"
   ]
  },
  {
   "cell_type": "code",
   "execution_count": 127,
   "metadata": {},
   "outputs": [
    {
     "name": "stdout",
     "output_type": "stream",
     "text": [
      "число проклятий: 1704\n",
      "число смертей: 190\n"
     ]
    }
   ],
   "source": [
    "print('число проклятий:', len(df[df['type']=='word']))\n",
    "print('число смертей:', len(df[df['type']=='death']))"
   ]
  },
  {
   "cell_type": "code",
   "execution_count": 130,
   "metadata": {},
   "outputs": [
    {
     "data": {
      "text/plain": [
       "array(['Reservoir Dogs', 'Pulp Fiction', 'Kill Bill: Vol. 1',\n",
       "       'Kill Bill: Vol. 2', 'Inglorious Basterds', 'Django Unchained',\n",
       "       'Jackie Brown'], dtype=object)"
      ]
     },
     "execution_count": 130,
     "metadata": {},
     "output_type": "execute_result"
    }
   ],
   "source": [
    "df['movie'].unique()"
   ]
  },
  {
   "cell_type": "code",
   "execution_count": 131,
   "metadata": {},
   "outputs": [
    {
     "name": "stdout",
     "output_type": "stream",
     "text": [
      "проклятия/смерти в фильме Reservoir Dogs: 42.1\n",
      "проклятия/смерти в фильме Pulp Fiction: 67.0\n",
      "проклятия/смерти в фильме Kill Bill: Vol. 1: 0.9047619047619048\n",
      "проклятия/смерти в фильме Kill Bill: Vol. 2: 6.2727272727272725\n",
      "проклятия/смерти в фильме Inglorious Basterds: 1.2083333333333333\n",
      "проклятия/смерти в фильме Django Unchained: 5.574468085106383\n",
      "проклятия/смерти в фильме Jackie Brown: 92.0\n"
     ]
    }
   ],
   "source": [
    "print('проклятия/смерти в фильме Reservoir Dogs:', len(df[(df['movie']=='Reservoir Dogs') &(df['type']=='word')])/len(df[(df['movie']=='Reservoir Dogs') &(df['type']=='death')]))\n",
    "\n",
    "print('проклятия/смерти в фильме Pulp Fiction:', len(df[(df['movie']=='Pulp Fiction') &(df['type']=='word')])/len(df[(df['movie']=='Pulp Fiction') &(df['type']=='death')]))\n",
    "\n",
    "print('проклятия/смерти в фильме Kill Bill: Vol. 1:', len(df[(df['movie']=='Kill Bill: Vol. 1') &(df['type']=='word')])/len(df[(df['movie']=='Kill Bill: Vol. 1') &(df['type']=='death')]))\n",
    "\n",
    "print('проклятия/смерти в фильме Kill Bill: Vol. 2:', len(df[(df['movie']=='Kill Bill: Vol. 2') &(df['type']=='word')])/len(df[(df['movie']=='Kill Bill: Vol. 2') &(df['type']=='death')]))\n",
    "\n",
    "print('проклятия/смерти в фильме Inglorious Basterds:', len(df[(df['movie']=='Inglorious Basterds') &(df['type']=='word')])/len(df[(df['movie']=='Inglorious Basterds') &(df['type']=='death')]))\n",
    "\n",
    "print('проклятия/смерти в фильме Django Unchained:', len(df[(df['movie']=='Django Unchained') &(df['type']=='word')])/len(df[(df['movie']=='Django Unchained') &(df['type']=='death')]))\n",
    "\n",
    "print('проклятия/смерти в фильме Jackie Brown:', len(df[(df['movie']=='Jackie Brown') &(df['type']=='word')])/len(df[(df['movie']=='Jackie Brown') &(df['type']=='death')]))"
   ]
  },
  {
   "cell_type": "code",
   "execution_count": 132,
   "metadata": {},
   "outputs": [
    {
     "data": {
      "text/plain": [
       "fucking          407\n",
       "shit             221\n",
       "fuck             213\n",
       "n-word           179\n",
       "ass              140\n",
       "goddamn          113\n",
       "motherfucker      70\n",
       "bitch             64\n",
       "hell              45\n",
       "damn              37\n",
       "motherfucking     27\n",
       "fucked            25\n",
       "bullshit          15\n",
       "motherfuckers     15\n",
       "dick              14\n",
       "pussy             11\n",
       "asshole           10\n",
       "bastard           10\n",
       "bitches            9\n",
       "fucker             8\n",
       "assholes           5\n",
       "negro              5\n",
       "dicks              5\n",
       "asses              4\n",
       "shitty             4\n",
       "damned             3\n",
       "fucks              3\n",
       "shithead           3\n",
       "horseshit          2\n",
       "gooks              2\n",
       "japs               2\n",
       "cunt               2\n",
       "shitload           2\n",
       "cocksucker         2\n",
       "wetback            2\n",
       "fuckers            1\n",
       "horeshit           1\n",
       "jap                1\n",
       "shittiest          1\n",
       "fuckup             1\n",
       "jackass            1\n",
       "goddamned          1\n",
       "slut               1\n",
       "squaw              1\n",
       "asshead            1\n",
       "shitting           1\n",
       "shitless           1\n",
       "bastards           1\n",
       "dickless           1\n",
       "jew (verb)         1\n",
       "cockblockery       1\n",
       "fuckface           1\n",
       "cunts              1\n",
       "faggot             1\n",
       "gook               1\n",
       "merde              1\n",
       "fuckhead           1\n",
       "slope              1\n",
       "chickenshit        1\n",
       "dumbass            1\n",
       "Name: word, dtype: int64"
      ]
     },
     "execution_count": 132,
     "metadata": {},
     "output_type": "execute_result"
    }
   ],
   "source": [
    "#частота употребления проклятий\n",
    "df['word'].value_counts()"
   ]
  },
  {
   "cell_type": "code",
   "execution_count": 133,
   "metadata": {},
   "outputs": [
    {
     "name": "stdout",
     "output_type": "stream",
     "text": [
      "<class 'pandas.core.frame.DataFrame'>\n",
      "RangeIndex: 1894 entries, 0 to 1893\n",
      "Data columns (total 4 columns):\n",
      " #   Column      Non-Null Count  Dtype  \n",
      "---  ------      --------------  -----  \n",
      " 0   movie       1894 non-null   object \n",
      " 1   type        1894 non-null   object \n",
      " 2   word        1704 non-null   object \n",
      " 3   minutes_in  1894 non-null   float64\n",
      "dtypes: float64(1), object(3)\n",
      "memory usage: 59.3+ KB\n"
     ]
    }
   ],
   "source": [
    "df.info()"
   ]
  },
  {
   "cell_type": "code",
   "execution_count": 139,
   "metadata": {},
   "outputs": [
    {
     "data": {
      "text/plain": [
       "(array([64., 55., 82., 69., 84., 51., 65., 62., 36., 64., 57., 39., 49.,\n",
       "        30., 42., 59., 51., 53., 31., 42., 63., 32., 28., 30., 32., 59.,\n",
       "        68., 49., 40., 53., 40., 59., 24., 17.,  2., 23.]),\n",
       " array([  0.4       ,   4.84111111,   9.28222222,  13.72333333,\n",
       "         18.16444444,  22.60555556,  27.04666667,  31.48777778,\n",
       "         35.92888889,  40.37      ,  44.81111111,  49.25222222,\n",
       "         53.69333333,  58.13444444,  62.57555556,  67.01666667,\n",
       "         71.45777778,  75.89888889,  80.34      ,  84.78111111,\n",
       "         89.22222222,  93.66333333,  98.10444444, 102.54555556,\n",
       "        106.98666667, 111.42777778, 115.86888889, 120.31      ,\n",
       "        124.75111111, 129.19222222, 133.63333333, 138.07444444,\n",
       "        142.51555556, 146.95666667, 151.39777778, 155.83888889,\n",
       "        160.28      ]),\n",
       " <BarContainer object of 36 artists>)"
      ]
     },
     "execution_count": 139,
     "metadata": {},
     "output_type": "execute_result"
    },
    {
     "data": {
      "image/png": "[encoded data removed]",
      "text/plain": [
       "<Figure size 432x288 with 1 Axes>"
      ]
     },
     "metadata": {
      "needs_background": "light"
     },
     "output_type": "display_data"
    }
   ],
   "source": [
    "time=[]\n",
    "for i in range (1893):\n",
    "    if df.loc[i]['type'] == 'word':\n",
    "        time.append(df.loc[i]['minutes_in'])\n",
    "\n",
    "        \n",
    "import matplotlib.pyplot as plt\n",
    "\n",
    "plt.hist(time, color = 'blue', edgecolor = 'black',\n",
    "         bins = int(180/5))"
   ]
  }
 ],
 "metadata": {
  "kernelspec": {
   "display_name": "Python 3 (ipykernel)",
   "language": "python",
   "name": "python3"
  },
  "language_info": {
   "codemirror_mode": {
    "name": "ipython",
    "version": 3
   },
   "file_extension": ".py",
   "mimetype": "text/x-python",
   "name": "python",
   "nbconvert_exporter": "python",
   "pygments_lexer": "ipython3",
   "version": "3.9.7"
  }
 },
 "nbformat": 4,
 "nbformat_minor": 2
}
