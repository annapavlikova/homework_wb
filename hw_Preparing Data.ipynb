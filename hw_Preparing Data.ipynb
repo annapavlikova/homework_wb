{
 "cells": [
  {
   "cell_type": "code",
   "execution_count": 2,
   "id": "beedc1d1",
   "metadata": {},
   "outputs": [
    {
     "name": "stdout",
     "output_type": "stream",
     "text": [
      "(1.0, 1.1102230246251565e-14)\n"
     ]
    },
    {
     "data": {
      "text/plain": [
       "Text(0.5, 1.0, 'Функция распределения')"
      ]
     },
     "execution_count": 2,
     "metadata": {},
     "output_type": "execute_result"
    },
    {
     "data": {
      "image/png": "[encoded data removed]",
      "text/plain": [
       "<Figure size 1080x360 with 3 Axes>"
      ]
     },
     "metadata": {
      "needs_background": "light"
     },
     "output_type": "display_data"
    }
   ],
   "source": [
    "import numpy as np\n",
    "import scipy.integrate\n",
    "import math\n",
    "import matplotlib.pyplot as plt\n",
    "import random\n",
    "\n",
    "\n",
    "#задание 1\n",
    "#придуманная плотность \n",
    "def f(x):\n",
    "    return np.where(x < -1,\n",
    "                    0,\n",
    "                    np.where((-1 <= x) & (x <= 1),\n",
    "                             np.cos(math.pi*x/2)*math.pi/4,\n",
    "                              np.where(1 <= x,\n",
    "                                       0,\n",
    "                                       0)\n",
    "                    )\n",
    "            )\n",
    "\n",
    "#посчитанная для неё функция распределения\n",
    "def rasp(x):\n",
    "    return np.where(x < -1,\n",
    "                    0,\n",
    "                    np.where((-1 <= x) & (x <= 1),\n",
    "                             np.sin(math.pi*x/2)/2+0.5,\n",
    "                              np.where(1 <= x,\n",
    "                                       1,\n",
    "                                       1)\n",
    "                    )\n",
    "            )    \n",
    "\n",
    "x = np.linspace(-2, 2, 100)\n",
    "\n",
    "integral = scipy.integrate.quad(f, -1, 1)\n",
    "print(integral)\n",
    "\n",
    "#генерация массива с таким распределением\n",
    "res = []\n",
    "for i in range(100):\n",
    "    for j in range(round(1000*(rasp(-1+0.02*(i+1))-rasp(-1+0.02*i)))):\n",
    "        res.append(np.random.uniform(-1+0.02*i,-1+0.02*(i+1), 1)[0])\n",
    "        \n",
    "\n",
    "#print(res)\n",
    "\n",
    "#построение графиков\n",
    "plt.figure(figsize=(15, 5))\n",
    "plt.subplot(1, 3, 1)\n",
    "plt.title('Гистограмма массива', fontsize=15)\n",
    "plt.hist(res)\n",
    "plt.subplot(1, 3, 2)\n",
    "plt.plot(x, f(x))\n",
    "plt.title('Плотность', fontsize=15)\n",
    "plt.subplot(1, 3, 3)\n",
    "plt.plot(x, rasp(x))\n",
    "plt.title('Функция распределения', fontsize=15)\n"
   ]
  },
  {
   "cell_type": "markdown",
   "id": "e188ea05",
   "metadata": {},
   "source": [
    "Сучайная величина: количество бракованных товаров в партии из 10 изделий"
   ]
  },
  {
   "cell_type": "markdown",
   "id": "add2b43d",
   "metadata": {},
   "source": [
    "Закон распределения:\n",
    "\n",
    "| Значение | Вероятность   |\n",
    "|----------|:-------------:|\n",
    "| 1        | 0.3           | \n",
    "| 2        | 0.4           | \n",
    "| 3        | 0.1           | \n",
    "| 4        | 0.1           | \n",
    "| 5        | 0.05          | \n",
    "| 6        | 0.025         | \n",
    "| 7        | 0.012         | \n",
    "| 8        | 0.01          | \n",
    "| 9        | 0.002         | \n",
    "| 10       | 0.001         | "
   ]
  },
  {
   "cell_type": "code",
   "execution_count": 3,
   "id": "2e5148fc",
   "metadata": {},
   "outputs": [
    {
     "data": {
      "text/plain": [
       "array([ 1,  1,  1,  8,  2,  2,  2,  2,  2,  3,  2,  3,  1,  1,  5,  2,  4,\n",
       "        2,  4,  2,  1,  2,  2,  4,  2,  2,  1,  2,  2,  5,  1,  2,  2,  1,\n",
       "        1,  2,  2,  2,  2,  2,  3,  2,  3,  2,  1,  1,  2,  1,  4,  4,  6,\n",
       "        4,  1,  7,  2,  2,  2,  2,  1,  4,  6,  2,  3,  2,  2,  4,  2,  2,\n",
       "        4,  8,  6,  2,  2,  2,  4,  2,  1,  2,  2,  2,  7,  2,  1,  6,  2,\n",
       "        1,  5, 10,  2,  5,  4,  5,  1,  2,  2,  1,  1,  2,  1,  4,  3,  1,\n",
       "        4,  1,  4,  2,  6,  2,  2,  2,  2,  2,  3,  2,  1,  3,  2,  1,  1,\n",
       "        5,  2,  1,  2,  3,  2,  1,  2,  4,  2,  3,  2,  3,  1,  1,  1,  2,\n",
       "        1,  4,  2,  2,  1,  4,  3,  1,  1,  1,  1,  2,  2,  2,  2,  4,  5,\n",
       "        1,  4,  3,  1,  3,  5,  2,  3,  2,  3, 10,  3,  2,  1,  2,  1,  2,\n",
       "        5,  1,  2,  4,  4,  1,  2,  1,  2,  4,  1,  2,  5,  1,  3,  7,  1,\n",
       "        1,  1,  3,  2,  4,  2,  2,  1,  1,  7,  2,  4,  4,  1,  1,  2,  2,\n",
       "        2,  1,  1,  2,  2,  1,  2,  6,  2,  2,  2,  2,  1,  4,  2,  1,  8,\n",
       "        1,  2,  1,  3,  2,  2,  3,  4,  1,  1,  4,  3,  2,  1,  1,  2,  5,\n",
       "        1,  2,  1,  1,  2,  7,  1,  2,  1,  4,  2,  1,  1,  4,  2,  6,  1,\n",
       "        4,  1,  3,  4,  1,  2,  2,  2,  3,  2,  4,  2,  1,  2,  1,  5,  1,\n",
       "        2,  4,  7,  1,  7,  1,  7,  2,  2,  1,  1,  4,  2,  1,  4,  3,  2,\n",
       "        4,  2,  4,  5,  2,  2,  1,  2,  1,  2,  1,  2,  2,  1,  1,  3,  2,\n",
       "        3,  2,  2,  1,  2,  2,  4,  2,  5,  2,  3,  4,  2,  1,  2,  3,  4,\n",
       "        3,  1,  2,  2,  5,  3,  4,  1,  3,  4,  1,  7,  4,  3,  2,  5,  1,\n",
       "        2,  1,  2,  4,  1,  1,  2,  1,  1,  2,  2,  2,  2,  1,  2,  2,  1,\n",
       "        1,  3,  1,  1,  3,  1,  3,  3,  1,  1,  4,  5,  1,  1,  1,  2,  1,\n",
       "        1,  2,  1,  7,  3,  4,  5,  1,  1,  3,  1,  1,  2,  2,  1,  1,  3,\n",
       "        2,  2,  3,  2,  2,  2,  2,  1,  2,  2,  2,  2,  2,  2,  1,  4,  2,\n",
       "        1,  5,  7,  1,  1,  1,  2,  2,  1,  4,  1,  3,  2,  1,  6,  4,  3,\n",
       "        1,  4,  1,  2,  2,  2,  2,  2,  6,  2,  2,  5,  7,  2,  1,  2,  1,\n",
       "        3,  1,  1,  1,  1,  2,  4,  1,  4,  2,  2,  1,  1,  3,  2,  2,  2,\n",
       "        4,  6,  1,  7,  2,  2,  2,  1,  1,  1,  4,  2,  5,  2,  1,  1,  2,\n",
       "        1,  2,  2,  4,  1,  2,  1,  2,  1,  3,  2,  1,  3,  2,  2,  2,  3,\n",
       "        2,  7,  4,  1,  1,  1,  1,  2,  2,  2,  6,  2,  3,  2,  3,  2,  4,\n",
       "        2,  1,  3,  5,  2,  1,  1,  1,  2,  1,  4,  5,  4,  2,  4,  2,  2,\n",
       "        1,  2,  5,  4,  2,  4,  2,  2,  2,  1,  2,  1,  4,  1,  3,  3,  3,\n",
       "        1,  5,  2,  2,  3,  3,  1,  5,  2,  2,  2,  3,  3,  2,  1,  2,  4,\n",
       "        1,  2,  1,  3,  2,  5,  2,  3,  3,  1,  1,  2,  4,  2,  2,  2,  5,\n",
       "        6,  3,  2,  2,  2,  1,  2,  1,  1,  1,  1,  1,  2,  1,  2,  4,  1,\n",
       "        3,  2,  2,  2,  2,  2,  2,  2,  2,  2,  3,  2,  3,  1,  1,  1,  4,\n",
       "        1,  1,  4,  2,  4,  1,  4,  1,  2,  2,  2,  1,  1,  4,  1,  1,  5,\n",
       "        1,  4,  2,  2,  2,  3,  1,  1,  1,  3,  2,  4,  4,  4,  2,  5,  2,\n",
       "        2,  2,  2,  1,  1,  2,  5,  4,  2,  2,  1,  4,  3,  4,  1,  3,  1,\n",
       "        2,  2,  2,  2,  1,  7,  1,  2,  2,  3,  1,  2,  1,  5,  1,  4,  1,\n",
       "        1,  2,  1,  5,  2,  1,  1,  1,  2,  4,  4,  2,  4,  1,  2,  2,  1,\n",
       "        2,  2,  1,  5,  2,  2,  1,  2,  3,  2,  2,  1,  2,  1,  1,  1,  2,\n",
       "        2,  2,  1,  1,  2,  3,  1,  4,  1,  2,  1,  2,  2,  2,  1,  2,  2,\n",
       "        1,  2,  2,  5,  1,  1,  6,  2,  2,  4,  5,  1,  5,  2,  5,  1,  5,\n",
       "        2,  1,  1,  3,  2,  1,  5,  2,  2,  2,  8,  2,  2,  3,  1,  1,  2,\n",
       "        1,  2,  2,  1,  2,  2,  2,  2,  1,  2,  1,  1,  5,  2,  1,  1,  2,\n",
       "        2,  1,  1,  4,  2,  2,  2,  2,  1,  1,  1,  3,  5,  2,  3,  1,  2,\n",
       "        2,  2,  4,  3,  3,  7,  3,  1,  2,  3,  1,  5,  2,  2,  2,  4,  1,\n",
       "        2,  2,  2,  4,  6,  2,  2,  2,  4,  2,  6,  2,  5,  2,  1,  1,  2,\n",
       "        1,  3,  6,  2,  2,  1,  2,  1,  6,  2,  1,  2,  3,  4,  6,  2,  4,\n",
       "        3,  7,  2,  2,  2,  1,  1,  1,  2,  1,  8,  1,  1,  2,  4,  2,  2,\n",
       "        4,  2,  1,  1,  1,  1,  3,  2,  2,  4,  1,  2,  2,  2,  1,  2,  1,\n",
       "        4,  2,  1,  1,  1,  2,  2,  4,  1,  4,  1,  1,  4,  3,  2,  5,  1,\n",
       "        1,  4,  1,  5,  2,  4,  5,  2,  1,  2,  2,  5,  1,  2,  6,  6,  1,\n",
       "        6,  1,  1,  1,  3,  3,  3,  1,  3,  2,  1,  4,  1,  2,  1,  4,  2,\n",
       "        2,  4,  2,  4,  3,  4,  3,  1,  2,  1,  2,  4,  2,  6,  2,  2,  2,\n",
       "        2,  1,  4,  3,  3,  6,  4,  1,  1,  2,  2,  4,  2,  1,  5,  1,  2,\n",
       "        4,  2,  2,  2,  1,  2,  4,  2,  2,  4,  4,  3,  2,  4,  1,  2,  1,\n",
       "        1,  4,  4,  4,  3,  2,  1,  2,  3,  2,  5,  1,  2,  2])"
      ]
     },
     "execution_count": 3,
     "metadata": {},
     "output_type": "execute_result"
    }
   ],
   "source": [
    "#массив чисел, симулирующих наблюдение этой СВ\n",
    "np.random.choice(np.arange(1, 11, dtype=int), 1000, p=[0.3,0.4,0.1,0.1,0.05,0.025,0.012,0.01,0.002,0.001])"
   ]
  },
  {
   "cell_type": "code",
   "execution_count": null,
   "id": "fb54066b",
   "metadata": {},
   "outputs": [],
   "source": []
  },
  {
   "cell_type": "code",
   "execution_count": null,
   "id": "abf85aa5",
   "metadata": {},
   "outputs": [],
   "source": []
  }
 ],
 "metadata": {
  "kernelspec": {
   "display_name": "Python 3 (ipykernel)",
   "language": "python",
   "name": "python3"
  },
  "language_info": {
   "codemirror_mode": {
    "name": "ipython",
    "version": 3
   },
   "file_extension": ".py",
   "mimetype": "text/x-python",
   "name": "python",
   "nbconvert_exporter": "python",
   "pygments_lexer": "ipython3",
   "version": "3.9.7"
  }
 },
 "nbformat": 4,
 "nbformat_minor": 5
}
