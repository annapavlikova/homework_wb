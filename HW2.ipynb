{
 "cells": [
  {
   "cell_type": "markdown",
   "id": "2b25e4cb-2853-4b71-82aa-7868469d3196",
   "metadata": {
    "id": "2b25e4cb-2853-4b71-82aa-7868469d3196"
   },
   "source": [
    "\n",
    "\n",
    "\n",
    "### Задача:\n",
    "Рассмотрим функцию $  f(x) = 3x^2 + 2x + 1 $ на интервале $[1, 4]$.\n",
    "Вычислите определённый интеграл функции $ f(x) $ на заданном интервале\n",
    "\n",
    "\n"
   ]
  },
  {
   "cell_type": "code",
   "execution_count": 1,
   "id": "1788aaf2-8518-486b-a46b-b58247ca28df",
   "metadata": {
    "id": "1788aaf2-8518-486b-a46b-b58247ca28df",
    "tags": []
   },
   "outputs": [
    {
     "name": "stdout",
     "output_type": "stream",
     "text": [
      "81\n"
     ]
    }
   ],
   "source": [
    "from scipy.integrate import quad\n",
    "\n",
    "def f(x):\n",
    "    return (3*x**2+2*x+1)\n",
    "\n",
    "res = quad(f, 1, 4)[0]\n",
    "\n",
    "print(round(res))"
   ]
  },
  {
   "cell_type": "markdown",
   "id": "2cd7e7ed-20f9-4b39-8828-2f51b0bdbe62",
   "metadata": {
    "id": "2cd7e7ed-20f9-4b39-8828-2f51b0bdbe62"
   },
   "source": [
    "### Задача:\n",
    "Найдите градиент функции $x^2+y^2$ в точке $(1,2)$"
   ]
  },
  {
   "cell_type": "code",
   "execution_count": 2,
   "id": "41d6a6a0-72a3-46c3-90ae-ac4f1790a699",
   "metadata": {
    "id": "41d6a6a0-72a3-46c3-90ae-ac4f1790a699"
   },
   "outputs": [
    {
     "name": "stdout",
     "output_type": "stream",
     "text": [
      "Градиент функции в точке [1. 2.] : [2.0000001  4.00000141]\n"
     ]
    }
   ],
   "source": [
    "import numpy as np\n",
    "from scipy.optimize import approx_fprime\n",
    "\n",
    "def func(x):\n",
    "    # Пример функции: f(x, y) = x^2 + y^2\n",
    "    return x[0]**2 + x[1]**2\n",
    "\n",
    "# Точка, в которой мы хотим найти градиент\n",
    "x = np.array([1.0, 2.0])\n",
    "\n",
    "# Вычисление градиента\n",
    "eps = 0.0000001\n",
    "grad=approx_fprime(x, func, [eps, np.sqrt(200) * eps])\n",
    "\n",
    "print(\"Градиент функции в точке\", x, \":\", grad)"
   ]
  },
  {
   "cell_type": "markdown",
   "id": "2244d4ae-fe41-421e-bcf4-166b695a62bc",
   "metadata": {
    "id": "2244d4ae-fe41-421e-bcf4-166b695a62bc"
   },
   "source": [
    "\n",
    "### Задача:\n",
    "Градиентный спуск — это итерационный метод оптимизации, который используется для поиска локального минимума дифференцируемой функции. Идея метода заключается в том, чтобы на каждом шаге двигаться в направлении наискорейшего убывания функции, которое определяется отрицательным градиентом функции в текущей точке.\n",
    "\n",
    "В математической записи, алгоритм градиентного спуска можно представить следующим образом. Пусть $ f: \\mathbb{R}^n \\rightarrow \\mathbb{R} $ — функция, которую мы хотим минимизировать. На каждом шаге $ k $ мы обновляем вектор параметров $ \\mathbf{x} $ следующим образом:\n",
    "\n",
    "$\n",
    "\\mathbf{x}_{k+1} = \\mathbf{x}_k - \\alpha \\nabla f(\\mathbf{x}_k),\n",
    "$\n",
    "\n",
    "где:\n",
    "- $ \\mathbf{x}_k $ — вектор параметров на шаге \\( k \\),\n",
    "- $ \\alpha $ — положительное число, называемое скоростью обучения,\n",
    "- $ \\nabla f(\\mathbf{x}_k) $ — градиент функции $ f $ в точке $ \\mathbf{x}_k $.\n",
    "\n",
    "Скорость обучения $ \\alpha $ контролирует размер шага, с которым алгоритм движется в направлении отрицательного градиента. Правильный выбор скорости обучения критически важен для сходимости алгоритма градиентного спуска к локальному минимуму.\n",
    "\n",
    "Этот процесс повторяется до тех пор, пока изменения в векторе параметров $ \\mathbf{x} $ или значение функции $ f $ не станут достаточно малыми, или пока не будет достигнуто максимальное количество итераций.\n",
    "\n",
    "Напишите функцию, которая по коэф. $a, b, c$ и начальной точке $x$ возвращает точку минимума у параболы"
   ]
  },
  {
   "cell_type": "code",
   "execution_count": null,
   "id": "4e6dbd34",
   "metadata": {},
   "outputs": [],
   "source": []
  },
  {
   "cell_type": "code",
   "execution_count": 6,
   "id": "13ea87a1-8992-468e-97ed-6f59045c43b2",
   "metadata": {
    "id": "13ea87a1-8992-468e-97ed-6f59045c43b2",
    "tags": []
   },
   "outputs": [],
   "source": [
    "def gradient_descent(a,b,c,x):\n",
    "    alpha=0.1\n",
    "    history=[]\n",
    "    eps = 0.0000001\n",
    "    y = a*x**2 + b*x + c\n",
    "    history.append((x,y))\n",
    "    for i in range(50):\n",
    "        grad=approx_fprime(x, func, eps)\n",
    "        x=x-alpha*grad\n",
    "        y = a*x**2 + b*x + c\n",
    "        history.append((x, y))\n",
    "    return history # возвращаем минимальное значение x"
   ]
  },
  {
   "cell_type": "code",
   "execution_count": 7,
   "id": "751d4b0e-233b-48d5-9336-f71f952b8b5d",
   "metadata": {
    "id": "751d4b0e-233b-48d5-9336-f71f952b8b5d",
    "outputId": "25097ada-28dc-4114-d493-0efa5f6ab9c1",
    "tags": []
   },
   "outputs": [
    {
     "name": "stderr",
     "output_type": "stream",
     "text": [
      "C:\\Users\\Anna\\anaconda3\\lib\\site-packages\\numpy\\ma\\core.py:2825: VisibleDeprecationWarning: Creating an ndarray from ragged nested sequences (which is a list-or-tuple of lists-or-tuples-or ndarrays with different lengths or shapes) is deprecated. If you meant to do this, you must specify 'dtype=object' when creating the ndarray.\n",
      "  _data = np.array(data, dtype=dtype, copy=copy,\n",
      "C:\\Users\\Anna\\anaconda3\\lib\\site-packages\\numpy\\core\\_asarray.py:171: VisibleDeprecationWarning: Creating an ndarray from ragged nested sequences (which is a list-or-tuple of lists-or-tuples-or ndarrays with different lengths or shapes) is deprecated. If you meant to do this, you must specify 'dtype=object' when creating the ndarray.\n",
      "  return array(a, dtype, copy=False, order=order, subok=True)\n"
     ]
    },
    {
     "data": {
      "image/png": "[encoded data removed]",
      "text/plain": [
       "<Figure size 720x432 with 1 Axes>"
      ]
     },
     "metadata": {
      "needs_background": "light"
     },
     "output_type": "display_data"
    }
   ],
   "source": [
    "import matplotlib.pyplot as plt\n",
    "a, b, c = 1, 0, 0\n",
    "x = 4\n",
    "history = gradient_descent(a, b, c, x)\n",
    "# визуализация\n",
    "x_history, y_history = zip(*history)\n",
    "x = np.linspace(x - 10, x + 2, 400)\n",
    "y = a*x**2 + b*x + c\n",
    "plt.figure(figsize=(10, 6))\n",
    "plt.plot(x, y, label='f(x) = ax^2 + bx + c')\n",
    "plt.scatter(x_history, y_history, color='red')\n",
    "plt.plot(x_history, y_history, color='red', linestyle='--')\n",
    "plt.legend()\n",
    "plt.xlabel('x')\n",
    "plt.ylabel('f(x)')\n",
    "plt.title('Градиентный спуск на параболе')\n",
    "plt.grid(True)\n",
    "plt.show()\n",
    "\n"
   ]
  },
  {
   "cell_type": "markdown",
   "id": "a1e17b54-0347-4bbd-8a4f-534562d6c47a",
   "metadata": {
    "id": "a1e17b54-0347-4bbd-8a4f-534562d6c47a"
   },
   "source": [
    "### Задача:\n",
    "Используйте функцию minimize из библиотеки SciPy для поиска минимума функции Розенброка и Химмельблау"
   ]
  },
  {
   "cell_type": "code",
   "execution_count": 8,
   "id": "9c312966-efa3-4159-88a1-265db9612489",
   "metadata": {
    "id": "9c312966-efa3-4159-88a1-265db9612489"
   },
   "outputs": [
    {
     "name": "stdout",
     "output_type": "stream",
     "text": [
      "Optimization terminated successfully.\n",
      "         Current function value: 0.000000\n",
      "         Iterations: 79\n",
      "         Function evaluations: 150\n",
      "Минимум функции Розенброка:\n",
      "Найденное значение переменных: [1. 1.]\n",
      "Значение функции в найденной точке: 3.3736077629532093e-18\n",
      "\n",
      "Optimization terminated successfully.\n",
      "         Current function value: 0.000000\n",
      "         Iterations: 78\n",
      "         Function evaluations: 152\n",
      "Минимум функции Химмельблау:\n",
      "Найденное значение переменных: [3. 2.]\n",
      "Значение функции в найденной точке: 1.830100362654092e-16\n"
     ]
    }
   ],
   "source": [
    "from scipy.optimize import minimize\n",
    "\n",
    "# Функция Розенброка\n",
    "def rosenbrock(x):\n",
    "    return (1 - x[0])**2 + 100 * (x[1] - x[0]**2)**2\n",
    "\n",
    "\n",
    "x0 = np.array([1.3, 0.7])\n",
    "\n",
    "# Нахождение минимума функции Розенброка\n",
    "result_rosenbrock = minimize(rosenbrock, x0, method='nelder-mead',\n",
    "    options={'xtol': 1e-8, 'disp': True})\n",
    "\n",
    "# Вывод результата\n",
    "print(\"Минимум функции Розенброка:\")\n",
    "print(\"Найденное значение переменных:\", result_rosenbrock.x)\n",
    "print(\"Значение функции в найденной точке:\", result_rosenbrock.fun)\n",
    "print()\n",
    "\n",
    "# Функция Химмельблау\n",
    "def himmelblau(x):\n",
    "    return (x[0]**2 + x[1] - 11)**2 + (x[0] + x[1]**2 - 7)**2\n",
    "\n",
    "# Нахождение минимума функции Химмельблау\n",
    "result_himmelblau = minimize(himmelblau, x0, method='nelder-mead',\n",
    "    options={'xtol': 1e-8, 'disp': True})\n",
    "\n",
    "# Вывод результата\n",
    "print(\"Минимум функции Химмельблау:\")\n",
    "print(\"Найденное значение переменных:\", result_himmelblau.x)\n",
    "print(\"Значение функции в найденной точке:\", result_himmelblau.fun)"
   ]
  },
  {
   "cell_type": "code",
   "execution_count": null,
   "id": "71438da1-d01d-4b1a-a237-1b80cd108981",
   "metadata": {
    "id": "71438da1-d01d-4b1a-a237-1b80cd108981"
   },
   "outputs": [],
   "source": []
  }
 ],
 "metadata": {
  "colab": {
   "provenance": []
  },
  "kernelspec": {
   "display_name": "Python 3 (ipykernel)",
   "language": "python",
   "name": "python3"
  },
  "language_info": {
   "codemirror_mode": {
    "name": "ipython",
    "version": 3
   },
   "file_extension": ".py",
   "mimetype": "text/x-python",
   "name": "python",
   "nbconvert_exporter": "python",
   "pygments_lexer": "ipython3",
   "version": "3.9.7"
  }
 },
 "nbformat": 4,
 "nbformat_minor": 5
}
